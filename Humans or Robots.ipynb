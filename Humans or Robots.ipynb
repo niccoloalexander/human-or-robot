{
 "cells": [
  {
   "cell_type": "markdown",
   "metadata": {},
   "source": [
    "# Classifying Humans and Robots on an Auction Site using Gradient Boosted Decision Trees\n",
    "\n",
    "This is my submission to the Kaggle competition \"Facebook Recruiting IV: Human or Robot?\". Feature engineering is the main challenge behind the competition. The data given somewhat resembles the raw data you would be able to collect working in the industry: there's a lot of it and it's messy. \n",
    "\n",
    "We are given three data sets to base our machine learning model around. The first two being a training and test set of bidders with their IDs and obfuscated payment account numbers and addresses as well as their classification (for the training set only). The third data set holds the bids and bid information of each bidder. This includes the auction a bid was made in, the merchandise page a bidder entered the site through, the device, country, and IP a bid was entered from, and the URL the bidder was referred from.\n",
    "\n",
    "The first two data sets each have a few thousand entries in them while the bids data set has more than seven and half million entries in it. Since we are classifying bidders and not bids, we will have to use aggregate functions to engineer feature values from the bids dataset to then assign to each bidder.\n",
    "\n",
    "Let's import the libraries we will need and load the three data sets with the bids data set being sorted out in the chronological order of bidding. "
   ]
  },
  {
   "cell_type": "code",
   "execution_count": 1,
   "metadata": {},
   "outputs": [],
   "source": [
    "import numpy as np\n",
    "import pandas as pd\n",
    "import xgboost as xgb\n",
    "from skopt import BayesSearchCV\n",
    "from sklearn.model_selection import StratifiedKFold\n",
    "import matplotlib.pyplot as plt\n",
    "import matplotlib.patches as mpatches\n",
    "import gc\n",
    "\n",
    "%matplotlib notebook\n",
    "\n",
    "df_train = pd.read_csv('train.csv', index_col= 'bidder_id')\n",
    "df_test = pd.read_csv('test.csv', index_col= 'bidder_id')\n",
    "df_bids = pd.read_csv('bids.csv').sort_values('time', ascending= True)"
   ]
  },
  {
   "cell_type": "markdown",
   "metadata": {},
   "source": [
    "### Feature Engineering"
   ]
  },
  {
   "cell_type": "markdown",
   "metadata": {},
   "source": [
    "Here's a look at our bids data set."
   ]
  },
  {
   "cell_type": "code",
   "execution_count": 2,
   "metadata": {},
   "outputs": [
    {
     "data": {
      "text/html": [
       "<div>\n",
       "<style scoped>\n",
       "    .dataframe tbody tr th:only-of-type {\n",
       "        vertical-align: middle;\n",
       "    }\n",
       "\n",
       "    .dataframe tbody tr th {\n",
       "        vertical-align: top;\n",
       "    }\n",
       "\n",
       "    .dataframe thead th {\n",
       "        text-align: right;\n",
       "    }\n",
       "</style>\n",
       "<table border=\"1\" class=\"dataframe\">\n",
       "  <thead>\n",
       "    <tr style=\"text-align: right;\">\n",
       "      <th></th>\n",
       "      <th>bid_id</th>\n",
       "      <th>bidder_id</th>\n",
       "      <th>auction</th>\n",
       "      <th>merchandise</th>\n",
       "      <th>device</th>\n",
       "      <th>time</th>\n",
       "      <th>country</th>\n",
       "      <th>ip</th>\n",
       "      <th>url</th>\n",
       "    </tr>\n",
       "  </thead>\n",
       "  <tbody>\n",
       "    <tr>\n",
       "      <th>2351187</th>\n",
       "      <td>2351187</td>\n",
       "      <td>76218e14c379c12d599dae9e1c00b61a3i5b2</td>\n",
       "      <td>6hpvy</td>\n",
       "      <td>sporting goods</td>\n",
       "      <td>phone1161</td>\n",
       "      <td>9631916842105263</td>\n",
       "      <td>cz</td>\n",
       "      <td>121.169.96.51</td>\n",
       "      <td>f33fl83l4vrg6is</td>\n",
       "    </tr>\n",
       "    <tr>\n",
       "      <th>2351202</th>\n",
       "      <td>2351202</td>\n",
       "      <td>29c103503e1d6ace5626fb07a5ab0dafrtjvs</td>\n",
       "      <td>wpee4</td>\n",
       "      <td>jewelry</td>\n",
       "      <td>phone412</td>\n",
       "      <td>9631916842105263</td>\n",
       "      <td>ru</td>\n",
       "      <td>63.82.37.102</td>\n",
       "      <td>via8q041tf3xrke</td>\n",
       "    </tr>\n",
       "    <tr>\n",
       "      <th>2351201</th>\n",
       "      <td>2351201</td>\n",
       "      <td>0ea62aaa9c3ffcc6db584cb69c1f6c4bcripp</td>\n",
       "      <td>b6zck</td>\n",
       "      <td>mobile</td>\n",
       "      <td>phone99</td>\n",
       "      <td>9631916842105263</td>\n",
       "      <td>lt</td>\n",
       "      <td>181.144.42.116</td>\n",
       "      <td>vasstdc27m7nks3</td>\n",
       "    </tr>\n",
       "    <tr>\n",
       "      <th>2351200</th>\n",
       "      <td>2351200</td>\n",
       "      <td>6e178db6d17d21aa88aaca5bf15c2761lc500</td>\n",
       "      <td>jqx39</td>\n",
       "      <td>jewelry</td>\n",
       "      <td>phone99</td>\n",
       "      <td>9631916842105263</td>\n",
       "      <td>sa</td>\n",
       "      <td>174.12.78.255</td>\n",
       "      <td>omwhmwzvrn6ycq6</td>\n",
       "    </tr>\n",
       "    <tr>\n",
       "      <th>2351199</th>\n",
       "      <td>2351199</td>\n",
       "      <td>b7c4f67613c2af7e544f01359d4fccc7l5f7y</td>\n",
       "      <td>du967</td>\n",
       "      <td>office equipment</td>\n",
       "      <td>phone348</td>\n",
       "      <td>9631916842105263</td>\n",
       "      <td>tr</td>\n",
       "      <td>21.10.208.37</td>\n",
       "      <td>vasstdc27m7nks3</td>\n",
       "    </tr>\n",
       "  </tbody>\n",
       "</table>\n",
       "</div>"
      ],
      "text/plain": [
       "          bid_id                              bidder_id auction  \\\n",
       "2351187  2351187  76218e14c379c12d599dae9e1c00b61a3i5b2   6hpvy   \n",
       "2351202  2351202  29c103503e1d6ace5626fb07a5ab0dafrtjvs   wpee4   \n",
       "2351201  2351201  0ea62aaa9c3ffcc6db584cb69c1f6c4bcripp   b6zck   \n",
       "2351200  2351200  6e178db6d17d21aa88aaca5bf15c2761lc500   jqx39   \n",
       "2351199  2351199  b7c4f67613c2af7e544f01359d4fccc7l5f7y   du967   \n",
       "\n",
       "              merchandise     device              time country  \\\n",
       "2351187    sporting goods  phone1161  9631916842105263      cz   \n",
       "2351202           jewelry   phone412  9631916842105263      ru   \n",
       "2351201            mobile    phone99  9631916842105263      lt   \n",
       "2351200           jewelry    phone99  9631916842105263      sa   \n",
       "2351199  office equipment   phone348  9631916842105263      tr   \n",
       "\n",
       "                     ip              url  \n",
       "2351187   121.169.96.51  f33fl83l4vrg6is  \n",
       "2351202    63.82.37.102  via8q041tf3xrke  \n",
       "2351201  181.144.42.116  vasstdc27m7nks3  \n",
       "2351200   174.12.78.255  omwhmwzvrn6ycq6  \n",
       "2351199    21.10.208.37  vasstdc27m7nks3  "
      ]
     },
     "execution_count": 2,
     "metadata": {},
     "output_type": "execute_result"
    }
   ],
   "source": [
    "df_bids.head()"
   ]
  },
  {
   "cell_type": "markdown",
   "metadata": {},
   "source": [
    "It appears that we'll mostly be working with categorical data. Time is the only continuous variable, taking the form of a Unix timestamp in microseconds. There's plenty of information that we could extract from this without needing to reformat the variable. \n",
    "\n",
    "Let's construct a few hypotheses on how we could detect robot bidders using our data:\n",
    "\n",
    "Bots can bid at an inhuman rate. In particular, they could react to other bids at an inhuman rate.\n",
    "\n",
    "Bots would tend to be more active than human bidders.\n",
    "\n",
    "Bots may enter auctions at a predictable point apart from most humans. Possibly either later on in the auction to \"steal\" the auction and win without driving the price too high or early on due to an automated alerts to newly created auctions.\n",
    "\n",
    "Bots may tend to carry an IP masked with VPN or Proxy software, resulting in more unique IPs or listed countries than the average user.\n",
    "\n",
    "Certain countries with higher instances of cybercrime than the average country may be common origin points for bots. \n",
    "\n",
    "It's important to keep in mind that we could underestimate human bidders. There are definitely human bidders that are very active on the site, bid at an increadible rate and mask their IPs. We have a good variety of features from which the algorithm we train will use to detect patterns that differentiate these users from bots. Tuning our algorithm's hyperparameters using cross validation with Area under the curve (AUC) as the metric for score will also help as AUC takes into consideration true positives and true negatives rather than simply computing overall accuracy. This is especially important as the humans outnumber bots at about 20:1 in the training set.\n",
    "\n",
    "We'll be creating three major feature classes: Amount of unique values per categorical variable, counts of specific unique categories, and time-based features. For ease of reference, I will refer to these feature sets respectively as our \"Unique\", \"Categories\", and \"Time\" feature sets.\n",
    "\n",
    "Let's start with the simplest one to write, the Unique feature set."
   ]
  },
  {
   "cell_type": "code",
   "execution_count": 3,
   "metadata": {},
   "outputs": [
    {
     "data": {
      "text/plain": [
       "['country']"
      ]
     },
     "execution_count": 3,
     "metadata": {},
     "output_type": "execute_result"
    }
   ],
   "source": [
    "# Check for categorical variables with null values.\n",
    "df_bids.columns[df_bids.isnull().values.any(axis= 0)].tolist()"
   ]
  },
  {
   "cell_type": "code",
   "execution_count": 4,
   "metadata": {},
   "outputs": [],
   "source": [
    "# Replace null values with a category recognizable by our algorithm.\n",
    "df_bids['country'] = df_bids['country'].fillna('n/a')"
   ]
  },
  {
   "cell_type": "code",
   "execution_count": 5,
   "metadata": {},
   "outputs": [],
   "source": [
    "# Count the amount of unique values per categorical variable and arrange into a feature set. \n",
    "unique = df_bids.groupby('bidder_id').size().to_frame('bids')\n",
    "\n",
    "for column in ['auction', 'merchandise', 'device', 'country', 'ip', 'url']:\n",
    "    \n",
    "    unique['unique_' + column] = df_bids.groupby('bidder_id')[column].apply(lambda x: len(x.unique()))\n",
    "\n",
    "# List column names for reference when plotting.\n",
    "unique_columns = unique.columns.tolist()"
   ]
  },
  {
   "cell_type": "markdown",
   "metadata": {},
   "source": [
    "Notice that we are creating features based on variables not mentioned in our hypothesis. We are trying to extract any extra information that we could think to improve our classifier algorithm. Since we'll be using a decision trees algorithm, the algorithm will be considering several features at a time in each decision tree that it creates. \n",
    "\n",
    "For example: Many bots and several humans have made over a thousand bids, but these bots have also spread these bids out accross more auctions.\n",
    "\n",
    "Now, we create the Categories feature set. We will be using the country and merchandise categorical variables only to save on memory as we are using the Pandas library which could be rather resource-hungry at times."
   ]
  },
  {
   "cell_type": "code",
   "execution_count": 6,
   "metadata": {},
   "outputs": [],
   "source": [
    "# Create dummy variables to replace categorical variables.\n",
    "def add_dummies(df, col):\n",
    "    dummies = pd.get_dummies(df[col])\n",
    "    df = pd.concat([df, dummies], axis= 1)\n",
    "        \n",
    "    return df\n",
    "    \n",
    "for column in ['country', 'merchandise']:\n",
    "    df_bids = add_dummies(df_bids, column)\n",
    "    \n",
    "categories = df_bids.groupby('bidder_id')[df_bids.columns[9:]].sum()\n",
    "\n",
    "# List column names for reference when plotting.\n",
    "categories_columns_country = df_bids['country'].unique().tolist()\n",
    "categories_columns_merchandise = df_bids['merchandise'].unique().tolist()"
   ]
  },
  {
   "cell_type": "markdown",
   "metadata": {},
   "source": [
    "Now for the Time features. This will be our most sophisticated feature set as I hypothesize that these variable will be the most helpful in classifying robots apart from humans. We begin by writing a function that applies several aggregate functions to our time data to draw relevant metrics from each type of feature we will be creating."
   ]
  },
  {
   "cell_type": "code",
   "execution_count": 7,
   "metadata": {},
   "outputs": [],
   "source": [
    "def aggs(df, group, column, tag, impute= True):\n",
    "    \n",
    "    result = df.groupby(group)[column].agg([np.min, np.max, np.mean, pd.DataFrame.mad])\n",
    "    result = result.rename(columns= {result.columns[0]: tag + '_min', result.columns[1]: tag + '_max'\n",
    "                                    ,result.columns[2]: tag + '_mean', result.columns[3]: tag + '_mad'})\n",
    "    \n",
    "    if impute:\n",
    "        result = result.fillna(result.mean())\n",
    "    \n",
    "    return result"
   ]
  },
  {
   "cell_type": "code",
   "execution_count": 8,
   "metadata": {},
   "outputs": [],
   "source": [
    "# Get time difference between each bid for each bidder.\n",
    "df_bids['bid_time_diff'] = df_bids.groupby('bidder_id')['time'].diff()\n",
    "\n",
    "# Get aggregates for time difference between each bid for each bidder.\n",
    "bid_time_diff_aggs = aggs(df_bids, 'bidder_id', 'bid_time_diff', 'bid_time_diff')\n",
    "\n",
    "\n",
    "# Get time between bids for each auction.\n",
    "df_bids['reaction_time'] = df_bids.groupby('auction')['time'].diff()\n",
    "\n",
    "# Get aggregates for reaction time to the last bid in an auction by each bidder across all auctions. \n",
    "reaction_time_aggs = aggs(df_bids, ['bidder_id', 'auction'], 'reaction_time', 'reaction_time')\n",
    "reaction_time_aggs = pd.DataFrame(data= [reaction_time_aggs.groupby('bidder_id')['reaction_time_min'].min(),\n",
    "                                         reaction_time_aggs.groupby('bidder_id')['reaction_time_max'].max(),\n",
    "                                         reaction_time_aggs.groupby('bidder_id')['reaction_time_mean'].mean(),\n",
    "                                         reaction_time_aggs.groupby('bidder_id')['reaction_time_mad'].mean()]).transpose()\n",
    "\n",
    "# Get bidder entry time into each auction.\n",
    "entry = pd.DataFrame(df_bids.groupby(['bidder_id', 'auction'])['time'].min()).reset_index()\n",
    "entry = entry.rename(columns= {'time': 'entry'})\n",
    "\n",
    "# Get auction midpoint time and auction length.\n",
    "auction_time_aggs = pd.DataFrame((df_bids.groupby('auction')['time'].max() + df_bids.groupby('auction')['time'].min()) / 2)\n",
    "auction_time_aggs['auction_length'] = df_bids.groupby('auction')['time'].max() - df_bids.groupby('auction')['time'].min()\n",
    "auction_time_aggs = auction_time_aggs.rename(columns= {'time': 'auction_midpoint'}).reset_index()\n",
    "\n",
    "# Merge data and get entry-midpoint distance metric.\n",
    "entry = entry.merge(auction_time_aggs, how= 'left', on= 'auction')\n",
    "# Normalize values by auction length.\n",
    "entry['entry_midpoint_distance'] = (entry['entry'] - entry['auction_midpoint']) / entry['auction_length']\n",
    "# Set value to upper scale limit for auctions with only one bid.\n",
    "entry['entry_midpoint_distance'] = entry['entry_midpoint_distance'].fillna(0.50)\n",
    "\n",
    "# Get aggregates for entry-midpoint distance metric for each bidder.\n",
    "entry_midpoint_distance_aggs = aggs(entry, 'bidder_id', 'entry_midpoint_distance', 'entry_midpoint_distance')\n",
    "\n",
    "# Get overall time spent by each bidder and mean time spent by each bidder on each auction participated in.\n",
    "timeframe = pd.DataFrame(df_bids.groupby('bidder_id')['time'].max() - df_bids.groupby('bidder_id')['time'].min())\n",
    "timeframe = timeframe.rename(columns= {'time': 'time_spent'})\n",
    "timeframe['time_spent_auction_mean'] = (df_bids.groupby(['bidder_id', 'auction'])['time'].max() - \n",
    "                                        df_bids.groupby(['bidder_id', 'auction'])['time'].min()).groupby('bidder_id').mean()\n",
    "\n",
    "# Get aggregates for bids sharing the same set number of left-most digits of time made by each bidder.\n",
    "for character_limit in [4, 5, 6]:\n",
    "    df_bids['time_partial_' + str(character_limit)] = df_bids['time'].astype(str).str.slice(0, character_limit)\n",
    "\n",
    "time_match_4 = df_bids.groupby('bidder_id')['time_partial_4'].value_counts().to_frame('count')\n",
    "time_match_4 = aggs(time_match_4, 'bidder_id', 'count', 'time_match_4')\n",
    "\n",
    "time_match_5 = df_bids.groupby('bidder_id')['time_partial_5'].value_counts().to_frame('count')\n",
    "time_match_5 = aggs(time_match_5, 'bidder_id', 'count', 'time_match_5')\n",
    "\n",
    "time_match_6 = df_bids.groupby('bidder_id')['time_partial_6'].value_counts().to_frame('count')\n",
    "time_match_6 = aggs(time_match_6, 'bidder_id', 'count', 'time_match_6')\n",
    "\n",
    "time_match = time_match_4.join(time_match_5).join(time_match_6)\n",
    "\n",
    "# Compile time aggregates\n",
    "time_aggs = timeframe.join(bid_time_diff_aggs).join(reaction_time_aggs).join(entry_midpoint_distance_aggs).join(time_match)\n",
    "\n",
    "# List column names for reference when plotting.\n",
    "time_columns = time_aggs.columns.tolist()"
   ]
  },
  {
   "cell_type": "markdown",
   "metadata": {},
   "source": [
    "That's our three feature sets. We now combine them into a single feature set then organize our data into our training and test sets."
   ]
  },
  {
   "cell_type": "code",
   "execution_count": 5,
   "metadata": {},
   "outputs": [
    {
     "data": {
      "text/html": [
       "<div>\n",
       "<style scoped>\n",
       "    .dataframe tbody tr th:only-of-type {\n",
       "        vertical-align: middle;\n",
       "    }\n",
       "\n",
       "    .dataframe tbody tr th {\n",
       "        vertical-align: top;\n",
       "    }\n",
       "\n",
       "    .dataframe thead th {\n",
       "        text-align: right;\n",
       "    }\n",
       "</style>\n",
       "<table border=\"1\" class=\"dataframe\">\n",
       "  <thead>\n",
       "    <tr style=\"text-align: right;\">\n",
       "      <th></th>\n",
       "      <th>bids</th>\n",
       "      <th>unique_auction</th>\n",
       "      <th>unique_merchandise</th>\n",
       "      <th>unique_device</th>\n",
       "      <th>unique_country</th>\n",
       "      <th>unique_ip</th>\n",
       "      <th>unique_url</th>\n",
       "      <th>time_spent</th>\n",
       "      <th>time_spent_auction_mean</th>\n",
       "      <th>bid_time_diff_min</th>\n",
       "      <th>...</th>\n",
       "      <th>vc</th>\n",
       "      <th>ve</th>\n",
       "      <th>vi</th>\n",
       "      <th>vn</th>\n",
       "      <th>ws</th>\n",
       "      <th>ye</th>\n",
       "      <th>za</th>\n",
       "      <th>zm</th>\n",
       "      <th>zw</th>\n",
       "      <th>zz</th>\n",
       "    </tr>\n",
       "    <tr>\n",
       "      <th>bidder_id</th>\n",
       "      <th></th>\n",
       "      <th></th>\n",
       "      <th></th>\n",
       "      <th></th>\n",
       "      <th></th>\n",
       "      <th></th>\n",
       "      <th></th>\n",
       "      <th></th>\n",
       "      <th></th>\n",
       "      <th></th>\n",
       "      <th></th>\n",
       "      <th></th>\n",
       "      <th></th>\n",
       "      <th></th>\n",
       "      <th></th>\n",
       "      <th></th>\n",
       "      <th></th>\n",
       "      <th></th>\n",
       "      <th></th>\n",
       "      <th></th>\n",
       "      <th></th>\n",
       "    </tr>\n",
       "  </thead>\n",
       "  <tbody>\n",
       "    <tr>\n",
       "      <th>001068c415025a009fee375a12cff4fcnht8y</th>\n",
       "      <td>1</td>\n",
       "      <td>1</td>\n",
       "      <td>1</td>\n",
       "      <td>1</td>\n",
       "      <td>1</td>\n",
       "      <td>1</td>\n",
       "      <td>1</td>\n",
       "      <td>0</td>\n",
       "      <td>0.000000e+00</td>\n",
       "      <td>1.388488e+12</td>\n",
       "      <td>...</td>\n",
       "      <td>0.0</td>\n",
       "      <td>0.0</td>\n",
       "      <td>0.0</td>\n",
       "      <td>0.0</td>\n",
       "      <td>0.0</td>\n",
       "      <td>0.0</td>\n",
       "      <td>0.0</td>\n",
       "      <td>0.0</td>\n",
       "      <td>0.0</td>\n",
       "      <td>0.0</td>\n",
       "    </tr>\n",
       "    <tr>\n",
       "      <th>002d229ffb247009810828f648afc2ef593rb</th>\n",
       "      <td>2</td>\n",
       "      <td>1</td>\n",
       "      <td>1</td>\n",
       "      <td>2</td>\n",
       "      <td>1</td>\n",
       "      <td>1</td>\n",
       "      <td>1</td>\n",
       "      <td>105263158</td>\n",
       "      <td>1.052632e+08</td>\n",
       "      <td>1.052632e+08</td>\n",
       "      <td>...</td>\n",
       "      <td>0.0</td>\n",
       "      <td>0.0</td>\n",
       "      <td>0.0</td>\n",
       "      <td>0.0</td>\n",
       "      <td>0.0</td>\n",
       "      <td>0.0</td>\n",
       "      <td>0.0</td>\n",
       "      <td>0.0</td>\n",
       "      <td>0.0</td>\n",
       "      <td>0.0</td>\n",
       "    </tr>\n",
       "    <tr>\n",
       "      <th>0030a2dd87ad2733e0873062e4f83954mkj86</th>\n",
       "      <td>1</td>\n",
       "      <td>1</td>\n",
       "      <td>1</td>\n",
       "      <td>1</td>\n",
       "      <td>1</td>\n",
       "      <td>1</td>\n",
       "      <td>1</td>\n",
       "      <td>0</td>\n",
       "      <td>0.000000e+00</td>\n",
       "      <td>1.388488e+12</td>\n",
       "      <td>...</td>\n",
       "      <td>0.0</td>\n",
       "      <td>0.0</td>\n",
       "      <td>0.0</td>\n",
       "      <td>0.0</td>\n",
       "      <td>0.0</td>\n",
       "      <td>0.0</td>\n",
       "      <td>0.0</td>\n",
       "      <td>0.0</td>\n",
       "      <td>0.0</td>\n",
       "      <td>0.0</td>\n",
       "    </tr>\n",
       "    <tr>\n",
       "      <th>003180b29c6a5f8f1d84a6b7b6f7be57tjj1o</th>\n",
       "      <td>3</td>\n",
       "      <td>3</td>\n",
       "      <td>1</td>\n",
       "      <td>3</td>\n",
       "      <td>1</td>\n",
       "      <td>3</td>\n",
       "      <td>2</td>\n",
       "      <td>65955684210526</td>\n",
       "      <td>0.000000e+00</td>\n",
       "      <td>5.369263e+12</td>\n",
       "      <td>...</td>\n",
       "      <td>0.0</td>\n",
       "      <td>0.0</td>\n",
       "      <td>0.0</td>\n",
       "      <td>0.0</td>\n",
       "      <td>0.0</td>\n",
       "      <td>0.0</td>\n",
       "      <td>0.0</td>\n",
       "      <td>0.0</td>\n",
       "      <td>0.0</td>\n",
       "      <td>0.0</td>\n",
       "    </tr>\n",
       "    <tr>\n",
       "      <th>00486a11dff552c4bd7696265724ff81yeo9v</th>\n",
       "      <td>20</td>\n",
       "      <td>13</td>\n",
       "      <td>1</td>\n",
       "      <td>8</td>\n",
       "      <td>1</td>\n",
       "      <td>10</td>\n",
       "      <td>7</td>\n",
       "      <td>76349842105263</td>\n",
       "      <td>1.518721e+12</td>\n",
       "      <td>3.684211e+08</td>\n",
       "      <td>...</td>\n",
       "      <td>0.0</td>\n",
       "      <td>0.0</td>\n",
       "      <td>0.0</td>\n",
       "      <td>0.0</td>\n",
       "      <td>0.0</td>\n",
       "      <td>0.0</td>\n",
       "      <td>0.0</td>\n",
       "      <td>0.0</td>\n",
       "      <td>0.0</td>\n",
       "      <td>0.0</td>\n",
       "    </tr>\n",
       "  </tbody>\n",
       "</table>\n",
       "<p>5 rows × 243 columns</p>\n",
       "</div>"
      ],
      "text/plain": [
       "                                       bids  unique_auction  \\\n",
       "bidder_id                                                     \n",
       "001068c415025a009fee375a12cff4fcnht8y     1               1   \n",
       "002d229ffb247009810828f648afc2ef593rb     2               1   \n",
       "0030a2dd87ad2733e0873062e4f83954mkj86     1               1   \n",
       "003180b29c6a5f8f1d84a6b7b6f7be57tjj1o     3               3   \n",
       "00486a11dff552c4bd7696265724ff81yeo9v    20              13   \n",
       "\n",
       "                                       unique_merchandise  unique_device  \\\n",
       "bidder_id                                                                  \n",
       "001068c415025a009fee375a12cff4fcnht8y                   1              1   \n",
       "002d229ffb247009810828f648afc2ef593rb                   1              2   \n",
       "0030a2dd87ad2733e0873062e4f83954mkj86                   1              1   \n",
       "003180b29c6a5f8f1d84a6b7b6f7be57tjj1o                   1              3   \n",
       "00486a11dff552c4bd7696265724ff81yeo9v                   1              8   \n",
       "\n",
       "                                       unique_country  unique_ip  unique_url  \\\n",
       "bidder_id                                                                      \n",
       "001068c415025a009fee375a12cff4fcnht8y               1          1           1   \n",
       "002d229ffb247009810828f648afc2ef593rb               1          1           1   \n",
       "0030a2dd87ad2733e0873062e4f83954mkj86               1          1           1   \n",
       "003180b29c6a5f8f1d84a6b7b6f7be57tjj1o               1          3           2   \n",
       "00486a11dff552c4bd7696265724ff81yeo9v               1         10           7   \n",
       "\n",
       "                                           time_spent  \\\n",
       "bidder_id                                               \n",
       "001068c415025a009fee375a12cff4fcnht8y               0   \n",
       "002d229ffb247009810828f648afc2ef593rb       105263158   \n",
       "0030a2dd87ad2733e0873062e4f83954mkj86               0   \n",
       "003180b29c6a5f8f1d84a6b7b6f7be57tjj1o  65955684210526   \n",
       "00486a11dff552c4bd7696265724ff81yeo9v  76349842105263   \n",
       "\n",
       "                                       time_spent_auction_mean  \\\n",
       "bidder_id                                                        \n",
       "001068c415025a009fee375a12cff4fcnht8y             0.000000e+00   \n",
       "002d229ffb247009810828f648afc2ef593rb             1.052632e+08   \n",
       "0030a2dd87ad2733e0873062e4f83954mkj86             0.000000e+00   \n",
       "003180b29c6a5f8f1d84a6b7b6f7be57tjj1o             0.000000e+00   \n",
       "00486a11dff552c4bd7696265724ff81yeo9v             1.518721e+12   \n",
       "\n",
       "                                       bid_time_diff_min ...    vc   ve   vi  \\\n",
       "bidder_id                                                ...                   \n",
       "001068c415025a009fee375a12cff4fcnht8y       1.388488e+12 ...   0.0  0.0  0.0   \n",
       "002d229ffb247009810828f648afc2ef593rb       1.052632e+08 ...   0.0  0.0  0.0   \n",
       "0030a2dd87ad2733e0873062e4f83954mkj86       1.388488e+12 ...   0.0  0.0  0.0   \n",
       "003180b29c6a5f8f1d84a6b7b6f7be57tjj1o       5.369263e+12 ...   0.0  0.0  0.0   \n",
       "00486a11dff552c4bd7696265724ff81yeo9v       3.684211e+08 ...   0.0  0.0  0.0   \n",
       "\n",
       "                                        vn   ws   ye   za   zm   zw   zz  \n",
       "bidder_id                                                                 \n",
       "001068c415025a009fee375a12cff4fcnht8y  0.0  0.0  0.0  0.0  0.0  0.0  0.0  \n",
       "002d229ffb247009810828f648afc2ef593rb  0.0  0.0  0.0  0.0  0.0  0.0  0.0  \n",
       "0030a2dd87ad2733e0873062e4f83954mkj86  0.0  0.0  0.0  0.0  0.0  0.0  0.0  \n",
       "003180b29c6a5f8f1d84a6b7b6f7be57tjj1o  0.0  0.0  0.0  0.0  0.0  0.0  0.0  \n",
       "00486a11dff552c4bd7696265724ff81yeo9v  0.0  0.0  0.0  0.0  0.0  0.0  0.0  \n",
       "\n",
       "[5 rows x 243 columns]"
      ]
     },
     "execution_count": 5,
     "metadata": {},
     "output_type": "execute_result"
    }
   ],
   "source": [
    "features = unique.join(time_aggs).join(categories)\n",
    "features.head()"
   ]
  },
  {
   "cell_type": "code",
   "execution_count": null,
   "metadata": {},
   "outputs": [],
   "source": [
    "# Organize the data into training and test sets. Rows with null values in the training set are dropped as Facebook did not\n",
    "# intend to include these rows in the data. Imputing values for these empty rows may also confuse the algorithm we write.\n",
    "df_train = df_train.merge(features, how= 'left', left_index= True, right_index= True)\n",
    "df_train = df_train.drop(columns= ['payment_account', 'address']).dropna()\n",
    "\n",
    "X_train = df_train[df_train.columns[1:]]\n",
    "y_train = df_train[df_train.columns[0]]\n",
    "\n",
    "# Rows with null values in the test set are filled with zeros. Facebook will ignore our predictions for these rows as they were\n",
    "# also not intended to be included in the data.\n",
    "X_test = df_test.merge(features, how= 'left', left_index= True, right_index= True)\n",
    "X_test = X_test.drop(columns= ['payment_account', 'address']).fillna(0)"
   ]
  },
  {
   "cell_type": "code",
   "execution_count": 11,
   "metadata": {},
   "outputs": [],
   "source": [
    "# Free up memory \n",
    "for trash in [timeframe, bid_time_diff_aggs, reaction_time_aggs, entry, auction_time_aggs, \n",
    "              entry_midpoint_distance_aggs, time_match_4, time_match_5, time_match_6, time_match,\n",
    "              unique, time_aggs, categories, df_train, df_test, df_bids]:\n",
    "    del trash\n",
    "\n",
    "gc.collect();"
   ]
  },
  {
   "cell_type": "markdown",
   "metadata": {},
   "source": [
    "### Machine Learning"
   ]
  },
  {
   "cell_type": "markdown",
   "metadata": {},
   "source": [
    "We will be applying a Gradient Boosted Decision Trees model on our data using the xgboost API. \n",
    "\n",
    "To tune the hyperparameters of the model, we will implement skopt's API for Bayesian Optimization with Gaussian Processes. This is a highly efficient method of hyperparameter tuning as the optimization algorithm maps out the hyperparameter space throughout each iteration to make a \"smart\" decision on what hyperparameters to choose in the next iteration. In this notebook, we will get close to the best roc score we could achieve in just five iterations. Having the optimization algorithm run for longer will continously return hyperparameters that result in minute increases in AUC score."
   ]
  },
  {
   "cell_type": "code",
   "execution_count": 3,
   "metadata": {},
   "outputs": [],
   "source": [
    "# Set the run length and random state of the optimization algorithm.\n",
    "iterations = 10\n",
    "seed = 50\n",
    "\n",
    "# The base parameters to the xgboost classifier. This classifier is set to use GPU computing. You can disable this by setting\n",
    "# tree method to 'hist' and the predictor to 'cpu_predictor'.\n",
    "clf = xgb.XGBClassifier(tree_method= 'gpu_hist', predictor= 'gpu_predictor', objective= 'binary:logistic', \n",
    "                        eval_metric= 'auc', nthreads= 1, seed= seed)\n",
    "\n",
    "# The hyperparameter space in which the optimization algorithm will search for the best set of hyperparameters to run the \n",
    "# xgboost model on.\n",
    "parameter_grid = {'n_estimators': (500, 3000),\n",
    "                  'learning_rate': (0.001, 1.0, 'log-uniform'),\n",
    "                  'max_depth': (3, 10),\n",
    "                  'min_child_weight': (0, 10),\n",
    "                  'max_delta_step': (0, 10),\n",
    "                  'subsample': (0.2, 1.0, 'uniform'),\n",
    "                  'colsample_bytree': (0.8, 1.0, 'uniform'),\n",
    "                  'colsample_bylevel': (0.8, 1.0, 'uniform'),\n",
    "                  'reg_lambda': (1e-9, 1000, 'log-uniform'),\n",
    "                  'reg_alpha': (1e-9, 1.0, 'log-uniform'),\n",
    "                  'gamma': (1e-9, 0.5, 'log-uniform'),\n",
    "                  'scale_pos_weight': (1e-6, 500, 'log-uniform')}\n",
    "\n",
    "# Five cross validation folds are used at each iteration of the parameter search. The xgboost model is set to use a single CPU\n",
    "# core while the optimization algorithm is set to use all available CPU cores in parallel.\n",
    "cv_algorithm = BayesSearchCV(estimator= clf, search_spaces= parameter_grid, scoring= 'roc_auc',\n",
    "                             cv= StratifiedKFold(n_splits= 5, shuffle= True, random_state= seed),\n",
    "                             n_jobs= -1, n_iter= iterations, verbose= True, refit= True, random_state= seed)\n",
    "\n",
    "# A callback function to return status reports at the end of each iteration of the parameter search.\n",
    "def status_print(optim_result):\n",
    "    \n",
    "    cv_results = pd.DataFrame(cv_algorithm.cv_results_)    \n",
    "       \n",
    "    best_params = pd.Series(cv_algorithm.best_params_)\n",
    "    print('Model #{}\\nBest {}: {}\\nBest params: {}\\n'.format(len(cv_results),\n",
    "                                                             cv_algorithm.scoring,\n",
    "                                                             np.round(cv_algorithm.best_score_, 4),\n",
    "                                                             cv_algorithm.best_params_))\n",
    "    \n",
    "    # Save results\n",
    "    clf_name = cv_algorithm.estimator.__class__.__name__\n",
    "    cv_results.to_csv(clf_name+'_cv_results.csv')"
   ]
  },
  {
   "cell_type": "code",
   "execution_count": 13,
   "metadata": {},
   "outputs": [
    {
     "name": "stdout",
     "output_type": "stream",
     "text": [
      "Fitting 5 folds for each of 1 candidates, totalling 5 fits\n"
     ]
    },
    {
     "name": "stderr",
     "output_type": "stream",
     "text": [
      "[Parallel(n_jobs=-1)]: Done   5 out of   5 | elapsed:   18.8s finished\n"
     ]
    },
    {
     "name": "stdout",
     "output_type": "stream",
     "text": [
      "Model #1\n",
      "Best roc_auc: 0.5\n",
      "Best params: {'colsample_bylevel': 0.9721979111667575, 'colsample_bytree': 0.8902432325584179, 'gamma': 2.2586662917224153e-05, 'learning_rate': 0.49358830548776716, 'max_delta_step': 1, 'max_depth': 6, 'min_child_weight': 8, 'n_estimators': 1461, 'reg_alpha': 1.1657129629938202e-09, 'reg_lambda': 0.00023255326346904284, 'scale_pos_weight': 0.0001214766155219951, 'subsample': 0.3313429699609568}\n",
      "\n",
      "Fitting 5 folds for each of 1 candidates, totalling 5 fits\n"
     ]
    },
    {
     "name": "stderr",
     "output_type": "stream",
     "text": [
      "[Parallel(n_jobs=-1)]: Done   5 out of   5 | elapsed:   34.1s finished\n"
     ]
    },
    {
     "name": "stdout",
     "output_type": "stream",
     "text": [
      "Model #2\n",
      "Best roc_auc: 0.9242\n",
      "Best params: {'colsample_bylevel': 0.9494356900082885, 'colsample_bytree': 0.9967267312494479, 'gamma': 0.05284097980919517, 'learning_rate': 0.06275790527395109, 'max_delta_step': 2, 'max_depth': 7, 'min_child_weight': 8, 'n_estimators': 2633, 'reg_alpha': 0.0009472298205939399, 'reg_lambda': 1.7294639346491166e-09, 'scale_pos_weight': 2.66224521163096, 'subsample': 0.9138062497451529}\n",
      "\n",
      "Fitting 5 folds for each of 1 candidates, totalling 5 fits\n"
     ]
    },
    {
     "name": "stderr",
     "output_type": "stream",
     "text": [
      "[Parallel(n_jobs=-1)]: Done   5 out of   5 | elapsed:   14.8s finished\n"
     ]
    },
    {
     "name": "stdout",
     "output_type": "stream",
     "text": [
      "Model #3\n",
      "Best roc_auc: 0.9242\n",
      "Best params: {'colsample_bylevel': 0.9494356900082885, 'colsample_bytree': 0.9967267312494479, 'gamma': 0.05284097980919517, 'learning_rate': 0.06275790527395109, 'max_delta_step': 2, 'max_depth': 7, 'min_child_weight': 8, 'n_estimators': 2633, 'reg_alpha': 0.0009472298205939399, 'reg_lambda': 1.7294639346491166e-09, 'scale_pos_weight': 2.66224521163096, 'subsample': 0.9138062497451529}\n",
      "\n",
      "Fitting 5 folds for each of 1 candidates, totalling 5 fits\n"
     ]
    },
    {
     "name": "stderr",
     "output_type": "stream",
     "text": [
      "[Parallel(n_jobs=-1)]: Done   5 out of   5 | elapsed:   19.2s finished\n"
     ]
    },
    {
     "name": "stdout",
     "output_type": "stream",
     "text": [
      "Model #4\n",
      "Best roc_auc: 0.9242\n",
      "Best params: {'colsample_bylevel': 0.9494356900082885, 'colsample_bytree': 0.9967267312494479, 'gamma': 0.05284097980919517, 'learning_rate': 0.06275790527395109, 'max_delta_step': 2, 'max_depth': 7, 'min_child_weight': 8, 'n_estimators': 2633, 'reg_alpha': 0.0009472298205939399, 'reg_lambda': 1.7294639346491166e-09, 'scale_pos_weight': 2.66224521163096, 'subsample': 0.9138062497451529}\n",
      "\n",
      "Fitting 5 folds for each of 1 candidates, totalling 5 fits\n"
     ]
    },
    {
     "name": "stderr",
     "output_type": "stream",
     "text": [
      "[Parallel(n_jobs=-1)]: Done   5 out of   5 | elapsed:  1.2min finished\n"
     ]
    },
    {
     "name": "stdout",
     "output_type": "stream",
     "text": [
      "Model #5\n",
      "Best roc_auc: 0.9366\n",
      "Best params: {'colsample_bylevel': 0.8755339204052285, 'colsample_bytree': 0.8874046902319567, 'gamma': 2.7639230423064887e-08, 'learning_rate': 0.0023022828327372872, 'max_delta_step': 4, 'max_depth': 8, 'min_child_weight': 10, 'n_estimators': 2877, 'reg_alpha': 0.031092167242297245, 'reg_lambda': 0.00023042807395347575, 'scale_pos_weight': 4.727074877553192, 'subsample': 0.403561012166152}\n",
      "\n",
      "Fitting 5 folds for each of 1 candidates, totalling 5 fits\n"
     ]
    },
    {
     "name": "stderr",
     "output_type": "stream",
     "text": [
      "[Parallel(n_jobs=-1)]: Done   5 out of   5 | elapsed:   24.0s finished\n"
     ]
    },
    {
     "name": "stdout",
     "output_type": "stream",
     "text": [
      "Model #6\n",
      "Best roc_auc: 0.9366\n",
      "Best params: {'colsample_bylevel': 0.8755339204052285, 'colsample_bytree': 0.8874046902319567, 'gamma': 2.7639230423064887e-08, 'learning_rate': 0.0023022828327372872, 'max_delta_step': 4, 'max_depth': 8, 'min_child_weight': 10, 'n_estimators': 2877, 'reg_alpha': 0.031092167242297245, 'reg_lambda': 0.00023042807395347575, 'scale_pos_weight': 4.727074877553192, 'subsample': 0.403561012166152}\n",
      "\n",
      "Fitting 5 folds for each of 1 candidates, totalling 5 fits\n"
     ]
    },
    {
     "name": "stderr",
     "output_type": "stream",
     "text": [
      "[Parallel(n_jobs=-1)]: Done   5 out of   5 | elapsed:  2.3min finished\n"
     ]
    },
    {
     "name": "stdout",
     "output_type": "stream",
     "text": [
      "Model #7\n",
      "Best roc_auc: 0.9366\n",
      "Best params: {'colsample_bylevel': 0.8755339204052285, 'colsample_bytree': 0.8874046902319567, 'gamma': 2.7639230423064887e-08, 'learning_rate': 0.0023022828327372872, 'max_delta_step': 4, 'max_depth': 8, 'min_child_weight': 10, 'n_estimators': 2877, 'reg_alpha': 0.031092167242297245, 'reg_lambda': 0.00023042807395347575, 'scale_pos_weight': 4.727074877553192, 'subsample': 0.403561012166152}\n",
      "\n",
      "Fitting 5 folds for each of 1 candidates, totalling 5 fits\n"
     ]
    },
    {
     "name": "stderr",
     "output_type": "stream",
     "text": [
      "[Parallel(n_jobs=-1)]: Done   5 out of   5 | elapsed:   15.7s finished\n"
     ]
    },
    {
     "name": "stdout",
     "output_type": "stream",
     "text": [
      "Model #8\n",
      "Best roc_auc: 0.9366\n",
      "Best params: {'colsample_bylevel': 0.8755339204052285, 'colsample_bytree': 0.8874046902319567, 'gamma': 2.7639230423064887e-08, 'learning_rate': 0.0023022828327372872, 'max_delta_step': 4, 'max_depth': 8, 'min_child_weight': 10, 'n_estimators': 2877, 'reg_alpha': 0.031092167242297245, 'reg_lambda': 0.00023042807395347575, 'scale_pos_weight': 4.727074877553192, 'subsample': 0.403561012166152}\n",
      "\n",
      "Fitting 5 folds for each of 1 candidates, totalling 5 fits\n"
     ]
    },
    {
     "name": "stderr",
     "output_type": "stream",
     "text": [
      "[Parallel(n_jobs=-1)]: Done   5 out of   5 | elapsed:   12.4s finished\n"
     ]
    },
    {
     "name": "stdout",
     "output_type": "stream",
     "text": [
      "Model #9\n",
      "Best roc_auc: 0.9366\n",
      "Best params: {'colsample_bylevel': 0.8755339204052285, 'colsample_bytree': 0.8874046902319567, 'gamma': 2.7639230423064887e-08, 'learning_rate': 0.0023022828327372872, 'max_delta_step': 4, 'max_depth': 8, 'min_child_weight': 10, 'n_estimators': 2877, 'reg_alpha': 0.031092167242297245, 'reg_lambda': 0.00023042807395347575, 'scale_pos_weight': 4.727074877553192, 'subsample': 0.403561012166152}\n",
      "\n",
      "Fitting 5 folds for each of 1 candidates, totalling 5 fits\n"
     ]
    },
    {
     "name": "stderr",
     "output_type": "stream",
     "text": [
      "[Parallel(n_jobs=-1)]: Done   5 out of   5 | elapsed:   20.3s finished\n"
     ]
    },
    {
     "name": "stdout",
     "output_type": "stream",
     "text": [
      "Model #10\n",
      "Best roc_auc: 0.9366\n",
      "Best params: {'colsample_bylevel': 0.8755339204052285, 'colsample_bytree': 0.8874046902319567, 'gamma': 2.7639230423064887e-08, 'learning_rate': 0.0023022828327372872, 'max_delta_step': 4, 'max_depth': 8, 'min_child_weight': 10, 'n_estimators': 2877, 'reg_alpha': 0.031092167242297245, 'reg_lambda': 0.00023042807395347575, 'scale_pos_weight': 4.727074877553192, 'subsample': 0.403561012166152}\n",
      "\n"
     ]
    }
   ],
   "source": [
    "cv_algorithm = cv_algorithm.fit(X_train, y_train, callback= status_print)"
   ]
  },
  {
   "cell_type": "markdown",
   "metadata": {},
   "source": [
    "The model we will use is one that I applied the optimization algorithm on for 100 iterations. We will make ten sets of predictions on the test data, changing only the random state each time, and average out these predictions to create our submission. This submission should score within the 0.91 to 0.94 ROC score range on the Kaggle leaderboard. "
   ]
  },
  {
   "cell_type": "code",
   "execution_count": 8,
   "metadata": {},
   "outputs": [],
   "source": [
    "clf = xgb.XGBClassifier(base_score=0.5, booster='gbtree',\n",
    "                        colsample_bylevel=0.9864826003058819, colsample_bytree=0.8,\n",
    "                        eval_metric='auc', gamma=1e-09, learning_rate=0.06211647829948551,\n",
    "                        max_delta_step=6, max_depth=6, min_child_weight=10, missing=None,\n",
    "                        n_estimators=3000, n_jobs=1, nthread=None,\n",
    "                        objective='binary:logistic', predictor='gpu_predictor',\n",
    "                        random_state=0, reg_alpha=1e-09, reg_lambda=1000.0,\n",
    "                        scale_pos_weight=7.785103235889749, seed=15, silent=True,\n",
    "                        subsample=0.579939508959872, tree_method='gpu_hist')\n",
    "\n",
    "# The classifier is set to use all available CPU cores in parallel.\n",
    "clf.set_params(nthreads= -1)\n",
    "\n",
    "models = 10\n",
    "prediction_matrix = np.zeros((len(X_test), models))\n",
    "feature_importance_matrix = np.zeros((len(X_train.columns), models))\n",
    "\n",
    "# Average predictions and feature importance scores across each model.\n",
    "for i in range(models):\n",
    "    clf.set_params(seed= i + 1)\n",
    "    clf.fit(X_train, y_train)\n",
    "    prediction_matrix[:, i] = clf.predict_proba(X_test)[:, 1]\n",
    "    feature_importance_matrix[:, i] = clf.feature_importances_\n",
    "    \n",
    "prediction_mean = prediction_matrix.mean(axis= 1)\n",
    "X_test['prediction'] = prediction_mean\n",
    "\n",
    "feature_importances = feature_importance_matrix.mean(axis= 1)\n",
    "feature_importances = pd.DataFrame({'feature': X_train.columns, 'importance': feature_importances}).set_index('feature')\n",
    "feature_importances = feature_importances.sort_values(by= 'importance', ascending= False)"
   ]
  },
  {
   "cell_type": "markdown",
   "metadata": {},
   "source": [
    "Let's plot the feature importances of the top 15 most important features entered into the model to understand how the model makes its predictions."
   ]
  },
  {
   "cell_type": "code",
   "execution_count": 24,
   "metadata": {
    "scrolled": false
   },
   "outputs": [
    {
     "data": {
      "image/png": "[encoded data removed]",
      "text/plain": [
       "<Figure size 864x648 with 1 Axes>"
      ]
     },
     "metadata": {},
     "output_type": "display_data"
    }
   ],
   "source": [
    "plt.style.use('seaborn')\n",
    "\n",
    "fig = plt.figure(figsize=(12, 9))\n",
    "ax = plt.gca()\n",
    "\n",
    "plt.title('Top 15 Features Ranked by Relative Importance', fontsize= 20, pad= 15, alpha= 0.8)\n",
    "\n",
    "# Set data points\n",
    "n = 15\n",
    "x = feature_importances.index[:n]\n",
    "y = feature_importances['importance'][:n]\n",
    "\n",
    "# We use the seaborn-colorblind style for bar colors and color the bars according to their \n",
    "# feature class: Unique, Categories, or Time. Categories is split into Country and Device for clarity.\n",
    "style_colors = plt.style.library['seaborn-colorblind']['axes.prop_cycle'].by_key()['color']\n",
    "\n",
    "bar_colors = []\n",
    "for feature in x:\n",
    "    if np.isin(feature, unique_columns):\n",
    "        bar_colors.append(style_colors[2])\n",
    "    elif np.isin(feature, time_columns):\n",
    "        bar_colors.append(style_colors[0])\n",
    "    elif np.isin(feature, categories_columns_country):\n",
    "        bar_colors.append(style_colors[3])\n",
    "    elif np.isin(feature, categories_columns_merchandise):\n",
    "        bar_colors.append(style_colors[1])\n",
    "\n",
    "# Plot the bars and sort from highest feature importance to lowest.\n",
    "bars = plt.barh(x, y, color= bar_colors)\n",
    "plt.gca().invert_yaxis()\n",
    "\n",
    "plt.tick_params(axis= 'x', labelbottom= False, bottom= False)\n",
    "plt.yticks([], [])\n",
    "\n",
    "# Create a custom legend for feature class.\n",
    "unique_patch = mpatches.Patch(color= style_colors[2], label='Unique')\n",
    "time_patch = mpatches.Patch(color= style_colors[0], label='Time')\n",
    "country_patch = mpatches.Patch(color= style_colors[3], label='Country')\n",
    "device_patch = mpatches.Patch(color= style_colors[1], label='Merchandise')\n",
    "\n",
    "legend = plt.legend(handles=[unique_patch, time_patch, device_patch, country_patch], \n",
    "                    loc= 'lower right', fontsize= 16, bbox_to_anchor=(0.925, 0.005), framealpha= 0.8)\n",
    "for _txt in legend.texts:\n",
    "    _txt.set_alpha(0.8)\n",
    "\n",
    "# Place feature name and feature importance wihin the bar instead of on ticks for clarity and aesthetics.\n",
    "for i, (x_value, y_value) in enumerate(zip(x, y)):\n",
    "    plt.text(y_value - 0.005, i, str(y_value)[0:6], color='white', va= 'center', size= 13.5, fontweight='bold') \n",
    "    plt.text(0.0007, i, str(x_value), color='white', va= 'center', ha= 'left', size= 14, fontweight='bold') "
   ]
  },
  {
   "cell_type": "markdown",
   "metadata": {},
   "source": [
    "Consistent with our hypotheses, the time features that we have engineered are great predictors of robots on the auction site. The point at which a user enters an auction turns out to be the most important feature type in the model followed by the mean reaction time to other bids in an auction. \n",
    "\n",
    "Included alongside are two of our categorical features, the amount of bids entered from Nigeria and the amount of bids made wherein the bidder initially landed on a page within the mobile category of the auction site. \n",
    "\n",
    "Two of the features from our Unique feature set are also relatively influential to our classifer, the amount of unique bids and unique devices of each bidder."
   ]
  },
  {
   "cell_type": "markdown",
   "metadata": {},
   "source": [
    "To recap, we have: \n",
    "\n",
    "Successfuly engineered features defining a sample of bidders of an auction site using a series of aggregate functions.\n",
    "\n",
    "Classified these bidders either as humans or robots using a gradient boosted decision trees model that generalizes well to test data with a greater than 90% area under the curve score. \n",
    "\n",
    "Efficiently tuned this classifier using Bayesian optimization with Gaussian processes.\n",
    "\n",
    "Visualized the most important features behind the model to better understand its decision-making. "
   ]
  }
 ],
 "metadata": {
  "kernelspec": {
   "display_name": "Python 3",
   "language": "python",
   "name": "python3"
  },
  "language_info": {
   "codemirror_mode": {
    "name": "ipython",
    "version": 3
   },
   "file_extension": ".py",
   "mimetype": "text/x-python",
   "name": "python",
   "nbconvert_exporter": "python",
   "pygments_lexer": "ipython3",
   "version": "3.6.5"
  }
 },
 "nbformat": 4,
 "nbformat_minor": 2
}
